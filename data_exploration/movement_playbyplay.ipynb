{
 "metadata": {
  "language_info": {
   "codemirror_mode": {
    "name": "ipython",
    "version": 3
   },
   "file_extension": ".py",
   "mimetype": "text/x-python",
   "name": "python",
   "nbconvert_exporter": "python",
   "pygments_lexer": "ipython3",
   "version": "2.7.18"
  },
  "orig_nbformat": 2,
  "kernelspec": {
   "name": "python2718jvsc74a57bd040af93d1d1281104d4558172f6bb94a7c05406768b7108ef0c80f8822d48f3f0",
   "display_name": "Python 2.7.18 64-bit ('nba-data': conda)"
  }
 },
 "nbformat": 4,
 "nbformat_minor": 2,
 "cells": [
  {
   "cell_type": "code",
   "execution_count": 1,
   "metadata": {},
   "outputs": [],
   "source": [
    "import pandas as pd"
   ]
  },
  {
   "cell_type": "code",
   "execution_count": 2,
   "metadata": {},
   "outputs": [
    {
     "output_type": "execute_result",
     "data": {
      "text/html": "<div>\n<style scoped>\n    .dataframe tbody tr th:only-of-type {\n        vertical-align: middle;\n    }\n\n    .dataframe tbody tr th {\n        vertical-align: top;\n    }\n\n    .dataframe thead th {\n        text-align: right;\n    }\n</style>\n<table border=\"1\" class=\"dataframe\">\n  <thead>\n    <tr style=\"text-align: right;\">\n      <th></th>\n      <th>team_id</th>\n      <th>player_id</th>\n      <th>x_loc</th>\n      <th>y_loc</th>\n      <th>radius</th>\n      <th>game_clock</th>\n      <th>shot_clock</th>\n      <th>quarter</th>\n      <th>game_id</th>\n      <th>event_id</th>\n    </tr>\n  </thead>\n  <tbody>\n    <tr>\n      <th>0</th>\n      <td>-1</td>\n      <td>-1</td>\n      <td>34.03194</td>\n      <td>29.88978</td>\n      <td>1.33122</td>\n      <td>710.42</td>\n      <td>16.9</td>\n      <td>1</td>\n      <td>21500577</td>\n      <td>1</td>\n    </tr>\n    <tr>\n      <th>1</th>\n      <td>1610612766</td>\n      <td>101107</td>\n      <td>13.84921</td>\n      <td>17.47510</td>\n      <td>0.00000</td>\n      <td>710.42</td>\n      <td>16.9</td>\n      <td>1</td>\n      <td>21500577</td>\n      <td>1</td>\n    </tr>\n    <tr>\n      <th>2</th>\n      <td>1610612766</td>\n      <td>201587</td>\n      <td>31.08585</td>\n      <td>26.80877</td>\n      <td>0.00000</td>\n      <td>710.42</td>\n      <td>16.9</td>\n      <td>1</td>\n      <td>21500577</td>\n      <td>1</td>\n    </tr>\n    <tr>\n      <th>3</th>\n      <td>1610612766</td>\n      <td>202689</td>\n      <td>8.37396</td>\n      <td>22.86151</td>\n      <td>0.00000</td>\n      <td>710.42</td>\n      <td>16.9</td>\n      <td>1</td>\n      <td>21500577</td>\n      <td>1</td>\n    </tr>\n    <tr>\n      <th>4</th>\n      <td>1610612766</td>\n      <td>203469</td>\n      <td>10.31474</td>\n      <td>29.96760</td>\n      <td>0.00000</td>\n      <td>710.42</td>\n      <td>16.9</td>\n      <td>1</td>\n      <td>21500577</td>\n      <td>1</td>\n    </tr>\n  </tbody>\n</table>\n</div>",
      "text/plain": [
       "      team_id  player_id     x_loc     y_loc   radius  game_clock  shot_clock  \\\n",
       "0          -1         -1  34.03194  29.88978  1.33122      710.42        16.9   \n",
       "1  1610612766     101107  13.84921  17.47510  0.00000      710.42        16.9   \n",
       "2  1610612766     201587  31.08585  26.80877  0.00000      710.42        16.9   \n",
       "3  1610612766     202689   8.37396  22.86151  0.00000      710.42        16.9   \n",
       "4  1610612766     203469  10.31474  29.96760  0.00000      710.42        16.9   \n",
       "\n",
       "   quarter   game_id  event_id  \n",
       "0        1  21500577         1  \n",
       "1        1  21500577         1  \n",
       "2        1  21500577         1  \n",
       "3        1  21500577         1  \n",
       "4        1  21500577         1  "
      ]
     },
     "metadata": {},
     "execution_count": 2
    }
   ],
   "source": [
    "df_movement = pd.read_csv(\"../nba-movement-data/data/csv/0021500577.csv\")\n",
    "\n",
    "df_movement.head()"
   ]
  },
  {
   "cell_type": "code",
   "execution_count": 3,
   "metadata": {},
   "outputs": [
    {
     "output_type": "execute_result",
     "data": {
      "text/html": "<div>\n<style scoped>\n    .dataframe tbody tr th:only-of-type {\n        vertical-align: middle;\n    }\n\n    .dataframe tbody tr th {\n        vertical-align: top;\n    }\n\n    .dataframe thead th {\n        text-align: right;\n    }\n</style>\n<table border=\"1\" class=\"dataframe\">\n  <thead>\n    <tr style=\"text-align: right;\">\n      <th></th>\n      <th>GRID_TYPE</th>\n      <th>GAME_ID</th>\n      <th>GAME_EVENT_ID</th>\n      <th>PLAYER_ID</th>\n      <th>PLAYER_NAME</th>\n      <th>TEAM_ID</th>\n      <th>TEAM_NAME</th>\n      <th>PERIOD</th>\n      <th>MINUTES_REMAINING</th>\n      <th>SECONDS_REMAINING</th>\n      <th>...</th>\n      <th>SHOT_ZONE_AREA</th>\n      <th>SHOT_ZONE_RANGE</th>\n      <th>SHOT_DISTANCE</th>\n      <th>LOC_X</th>\n      <th>LOC_Y</th>\n      <th>SHOT_ATTEMPTED_FLAG</th>\n      <th>SHOT_MADE_FLAG</th>\n      <th>GAME_DATE</th>\n      <th>HTM</th>\n      <th>VTM</th>\n    </tr>\n  </thead>\n  <tbody>\n    <tr>\n      <th>0</th>\n      <td>Shot Chart Detail</td>\n      <td>21500014</td>\n      <td>20</td>\n      <td>202083</td>\n      <td>Wesley Matthews</td>\n      <td>1610612742</td>\n      <td>Dallas Mavericks</td>\n      <td>1</td>\n      <td>9</td>\n      <td>4</td>\n      <td>...</td>\n      <td>Right Side Center(RC)</td>\n      <td>24+ ft.</td>\n      <td>24</td>\n      <td>78</td>\n      <td>228</td>\n      <td>1</td>\n      <td>0</td>\n      <td>20151028</td>\n      <td>PHX</td>\n      <td>DAL</td>\n    </tr>\n    <tr>\n      <th>1</th>\n      <td>Shot Chart Detail</td>\n      <td>21500014</td>\n      <td>168</td>\n      <td>202083</td>\n      <td>Wesley Matthews</td>\n      <td>1610612742</td>\n      <td>Dallas Mavericks</td>\n      <td>2</td>\n      <td>11</td>\n      <td>2</td>\n      <td>...</td>\n      <td>Left Side Center(LC)</td>\n      <td>24+ ft.</td>\n      <td>25</td>\n      <td>-232</td>\n      <td>106</td>\n      <td>1</td>\n      <td>0</td>\n      <td>20151028</td>\n      <td>PHX</td>\n      <td>DAL</td>\n    </tr>\n    <tr>\n      <th>2</th>\n      <td>Shot Chart Detail</td>\n      <td>21500014</td>\n      <td>217</td>\n      <td>202083</td>\n      <td>Wesley Matthews</td>\n      <td>1610612742</td>\n      <td>Dallas Mavericks</td>\n      <td>2</td>\n      <td>8</td>\n      <td>10</td>\n      <td>...</td>\n      <td>Right Side Center(RC)</td>\n      <td>24+ ft.</td>\n      <td>24</td>\n      <td>177</td>\n      <td>174</td>\n      <td>1</td>\n      <td>1</td>\n      <td>20151028</td>\n      <td>PHX</td>\n      <td>DAL</td>\n    </tr>\n    <tr>\n      <th>3</th>\n      <td>Shot Chart Detail</td>\n      <td>21500014</td>\n      <td>340</td>\n      <td>202083</td>\n      <td>Wesley Matthews</td>\n      <td>1610612742</td>\n      <td>Dallas Mavericks</td>\n      <td>3</td>\n      <td>10</td>\n      <td>57</td>\n      <td>...</td>\n      <td>Right Side Center(RC)</td>\n      <td>24+ ft.</td>\n      <td>24</td>\n      <td>222</td>\n      <td>111</td>\n      <td>1</td>\n      <td>1</td>\n      <td>20151028</td>\n      <td>PHX</td>\n      <td>DAL</td>\n    </tr>\n    <tr>\n      <th>4</th>\n      <td>Shot Chart Detail</td>\n      <td>21500014</td>\n      <td>358</td>\n      <td>202083</td>\n      <td>Wesley Matthews</td>\n      <td>1610612742</td>\n      <td>Dallas Mavericks</td>\n      <td>3</td>\n      <td>9</td>\n      <td>33</td>\n      <td>...</td>\n      <td>Right Side(R)</td>\n      <td>16-24 ft.</td>\n      <td>21</td>\n      <td>182</td>\n      <td>110</td>\n      <td>1</td>\n      <td>0</td>\n      <td>20151028</td>\n      <td>PHX</td>\n      <td>DAL</td>\n    </tr>\n  </tbody>\n</table>\n<p>5 rows × 24 columns</p>\n</div>",
      "text/plain": [
       "           GRID_TYPE   GAME_ID  GAME_EVENT_ID  PLAYER_ID      PLAYER_NAME  \\\n",
       "0  Shot Chart Detail  21500014             20     202083  Wesley Matthews   \n",
       "1  Shot Chart Detail  21500014            168     202083  Wesley Matthews   \n",
       "2  Shot Chart Detail  21500014            217     202083  Wesley Matthews   \n",
       "3  Shot Chart Detail  21500014            340     202083  Wesley Matthews   \n",
       "4  Shot Chart Detail  21500014            358     202083  Wesley Matthews   \n",
       "\n",
       "      TEAM_ID         TEAM_NAME  PERIOD  MINUTES_REMAINING  SECONDS_REMAINING  \\\n",
       "0  1610612742  Dallas Mavericks       1                  9                  4   \n",
       "1  1610612742  Dallas Mavericks       2                 11                  2   \n",
       "2  1610612742  Dallas Mavericks       2                  8                 10   \n",
       "3  1610612742  Dallas Mavericks       3                 10                 57   \n",
       "4  1610612742  Dallas Mavericks       3                  9                 33   \n",
       "\n",
       "   ...         SHOT_ZONE_AREA SHOT_ZONE_RANGE SHOT_DISTANCE LOC_X LOC_Y  \\\n",
       "0  ...  Right Side Center(RC)         24+ ft.            24    78   228   \n",
       "1  ...   Left Side Center(LC)         24+ ft.            25  -232   106   \n",
       "2  ...  Right Side Center(RC)         24+ ft.            24   177   174   \n",
       "3  ...  Right Side Center(RC)         24+ ft.            24   222   111   \n",
       "4  ...          Right Side(R)       16-24 ft.            21   182   110   \n",
       "\n",
       "  SHOT_ATTEMPTED_FLAG  SHOT_MADE_FLAG  GAME_DATE  HTM  VTM  \n",
       "0                   1               0   20151028  PHX  DAL  \n",
       "1                   1               0   20151028  PHX  DAL  \n",
       "2                   1               1   20151028  PHX  DAL  \n",
       "3                   1               1   20151028  PHX  DAL  \n",
       "4                   1               0   20151028  PHX  DAL  \n",
       "\n",
       "[5 rows x 24 columns]"
      ]
     },
     "metadata": {},
     "execution_count": 3
    }
   ],
   "source": [
    "df_shots = pd.read_csv(\"../nba-movement-data/data/shots/shots.csv\")\n",
    "\n",
    "df_shots.head()"
   ]
  },
  {
   "source": [
    "df_shots.columns"
   ],
   "cell_type": "code",
   "metadata": {},
   "execution_count": null,
   "outputs": []
  },
  {
   "cell_type": "code",
   "execution_count": 10,
   "metadata": {},
   "outputs": [
    {
     "output_type": "execute_result",
     "data": {
      "text/plain": [
       "(205538, 24)"
      ]
     },
     "metadata": {},
     "execution_count": 10
    }
   ],
   "source": [
    "df_shots.shape"
   ]
  },
  {
   "cell_type": "code",
   "execution_count": 9,
   "metadata": {},
   "outputs": [
    {
     "output_type": "execute_result",
     "data": {
      "text/plain": [
       "(1230,)"
      ]
     },
     "metadata": {},
     "execution_count": 9
    }
   ],
   "source": [
    "df_shots[\"GAME_ID\"].value_counts().shape"
   ]
  },
  {
   "cell_type": "code",
   "execution_count": 6,
   "metadata": {},
   "outputs": [
    {
     "output_type": "execute_result",
     "data": {
      "text/html": "<div>\n<style scoped>\n    .dataframe tbody tr th:only-of-type {\n        vertical-align: middle;\n    }\n\n    .dataframe tbody tr th {\n        vertical-align: top;\n    }\n\n    .dataframe thead th {\n        text-align: right;\n    }\n</style>\n<table border=\"1\" class=\"dataframe\">\n  <thead>\n    <tr style=\"text-align: right;\">\n      <th></th>\n      <th>ACTION_TYPE</th>\n      <th>EVENTTIME</th>\n      <th>EVENT_TYPE</th>\n      <th>GAME_DATE</th>\n      <th>GAME_EVENT_ID</th>\n      <th>GAME_ID</th>\n      <th>GRID_TYPE</th>\n      <th>HTM</th>\n      <th>LOC_X</th>\n      <th>LOC_Y</th>\n      <th>...</th>\n      <th>SHOT_DISTANCE</th>\n      <th>SHOT_MADE_FLAG</th>\n      <th>SHOT_TIME</th>\n      <th>SHOT_TYPE</th>\n      <th>SHOT_ZONE_AREA</th>\n      <th>SHOT_ZONE_BASIC</th>\n      <th>SHOT_ZONE_RANGE</th>\n      <th>TEAM_ID</th>\n      <th>TEAM_NAME</th>\n      <th>VTM</th>\n    </tr>\n  </thead>\n  <tbody>\n    <tr>\n      <th>0</th>\n      <td>Jump Shot</td>\n      <td>215</td>\n      <td>Missed Shot</td>\n      <td>20151223</td>\n      <td>93</td>\n      <td>21500435</td>\n      <td>Shot Chart Detail</td>\n      <td>LAL</td>\n      <td>-23.9825</td>\n      <td>157.0968</td>\n      <td>...</td>\n      <td>15</td>\n      <td>0</td>\n      <td>218.50</td>\n      <td>2PT Field Goal</td>\n      <td>Center(C)</td>\n      <td>Mid-Range</td>\n      <td>8-16 ft.</td>\n      <td>1610612747</td>\n      <td>Los Angeles Lakers</td>\n      <td>OKC</td>\n    </tr>\n    <tr>\n      <th>1</th>\n      <td>Dunk Shot</td>\n      <td>191</td>\n      <td>Made Shot</td>\n      <td>20151223</td>\n      <td>97</td>\n      <td>21500435</td>\n      <td>Shot Chart Detail</td>\n      <td>LAL</td>\n      <td>224.3221</td>\n      <td>24.9662</td>\n      <td>...</td>\n      <td>0</td>\n      <td>1</td>\n      <td>204.83</td>\n      <td>2PT Field Goal</td>\n      <td>Center(C)</td>\n      <td>Restricted Area</td>\n      <td>Less Than 8 ft.</td>\n      <td>1610612747</td>\n      <td>Los Angeles Lakers</td>\n      <td>OKC</td>\n    </tr>\n    <tr>\n      <th>2</th>\n      <td>Jump Shot</td>\n      <td>518</td>\n      <td>Made Shot</td>\n      <td>20151223</td>\n      <td>164</td>\n      <td>21500435</td>\n      <td>Shot Chart Detail</td>\n      <td>LAL</td>\n      <td>-5.4122</td>\n      <td>173.0601</td>\n      <td>...</td>\n      <td>16</td>\n      <td>1</td>\n      <td>520.65</td>\n      <td>2PT Field Goal</td>\n      <td>Center(C)</td>\n      <td>Mid-Range</td>\n      <td>16-24 ft.</td>\n      <td>1610612747</td>\n      <td>Los Angeles Lakers</td>\n      <td>OKC</td>\n    </tr>\n    <tr>\n      <th>3</th>\n      <td>Jump Shot</td>\n      <td>120</td>\n      <td>Missed Shot</td>\n      <td>20151223</td>\n      <td>382</td>\n      <td>21500435</td>\n      <td>Shot Chart Detail</td>\n      <td>LAL</td>\n      <td>-25.9351</td>\n      <td>158.7570</td>\n      <td>...</td>\n      <td>15</td>\n      <td>0</td>\n      <td>123.26</td>\n      <td>2PT Field Goal</td>\n      <td>Center(C)</td>\n      <td>Mid-Range</td>\n      <td>8-16 ft.</td>\n      <td>1610612747</td>\n      <td>Los Angeles Lakers</td>\n      <td>OKC</td>\n    </tr>\n    <tr>\n      <th>4</th>\n      <td>Jump Shot</td>\n      <td>646</td>\n      <td>Made Shot</td>\n      <td>20151223</td>\n      <td>14</td>\n      <td>21500435</td>\n      <td>Shot Chart Detail</td>\n      <td>LAL</td>\n      <td>178.3350</td>\n      <td>20.1712</td>\n      <td>...</td>\n      <td>15</td>\n      <td>1</td>\n      <td>650.49</td>\n      <td>2PT Field Goal</td>\n      <td>Right Side(R)</td>\n      <td>Mid-Range</td>\n      <td>8-16 ft.</td>\n      <td>1610612747</td>\n      <td>Los Angeles Lakers</td>\n      <td>OKC</td>\n    </tr>\n  </tbody>\n</table>\n<p>5 rows × 27 columns</p>\n</div>",
      "text/plain": [
       "  ACTION_TYPE  EVENTTIME   EVENT_TYPE  GAME_DATE  GAME_EVENT_ID   GAME_ID  \\\n",
       "0   Jump Shot        215  Missed Shot   20151223             93  21500435   \n",
       "1   Dunk Shot        191    Made Shot   20151223             97  21500435   \n",
       "2   Jump Shot        518    Made Shot   20151223            164  21500435   \n",
       "3   Jump Shot        120  Missed Shot   20151223            382  21500435   \n",
       "4   Jump Shot        646    Made Shot   20151223             14  21500435   \n",
       "\n",
       "           GRID_TYPE  HTM     LOC_X     LOC_Y  ...  SHOT_DISTANCE  \\\n",
       "0  Shot Chart Detail  LAL  -23.9825  157.0968  ...             15   \n",
       "1  Shot Chart Detail  LAL  224.3221   24.9662  ...              0   \n",
       "2  Shot Chart Detail  LAL   -5.4122  173.0601  ...             16   \n",
       "3  Shot Chart Detail  LAL  -25.9351  158.7570  ...             15   \n",
       "4  Shot Chart Detail  LAL  178.3350   20.1712  ...             15   \n",
       "\n",
       "   SHOT_MADE_FLAG  SHOT_TIME       SHOT_TYPE  SHOT_ZONE_AREA  SHOT_ZONE_BASIC  \\\n",
       "0               0     218.50  2PT Field Goal       Center(C)        Mid-Range   \n",
       "1               1     204.83  2PT Field Goal       Center(C)  Restricted Area   \n",
       "2               1     520.65  2PT Field Goal       Center(C)        Mid-Range   \n",
       "3               0     123.26  2PT Field Goal       Center(C)        Mid-Range   \n",
       "4               1     650.49  2PT Field Goal   Right Side(R)        Mid-Range   \n",
       "\n",
       "   SHOT_ZONE_RANGE     TEAM_ID           TEAM_NAME  VTM  \n",
       "0         8-16 ft.  1610612747  Los Angeles Lakers  OKC  \n",
       "1  Less Than 8 ft.  1610612747  Los Angeles Lakers  OKC  \n",
       "2        16-24 ft.  1610612747  Los Angeles Lakers  OKC  \n",
       "3         8-16 ft.  1610612747  Los Angeles Lakers  OKC  \n",
       "4         8-16 ft.  1610612747  Los Angeles Lakers  OKC  \n",
       "\n",
       "[5 rows x 27 columns]"
      ]
     },
     "metadata": {},
     "execution_count": 6
    }
   ],
   "source": [
    "df_shots_fixed = pd.read_csv(\"../nba-movement-data/data/shots/shots_fixed.csv\")\n",
    "\n",
    "df_shots_fixed.head()"
   ]
  },
  {
   "cell_type": "code",
   "execution_count": 7,
   "metadata": {},
   "outputs": [
    {
     "output_type": "execute_result",
     "data": {
      "text/plain": [
       "(84467, 27)"
      ]
     },
     "metadata": {},
     "execution_count": 7
    }
   ],
   "source": [
    "df_shots_fixed.shape"
   ]
  },
  {
   "cell_type": "code",
   "execution_count": 13,
   "metadata": {},
   "outputs": [
    {
     "output_type": "execute_result",
     "data": {
      "text/plain": [
       "(523,)"
      ]
     },
     "metadata": {},
     "execution_count": 13
    }
   ],
   "source": [
    "df_shots_fixed['GAME_ID'].unique().shape"
   ]
  },
  {
   "cell_type": "code",
   "execution_count": null,
   "metadata": {},
   "outputs": [],
   "source": []
  }
 ]
}