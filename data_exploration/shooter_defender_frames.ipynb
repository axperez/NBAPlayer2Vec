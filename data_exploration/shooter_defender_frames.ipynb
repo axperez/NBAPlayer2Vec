{
 "metadata": {
  "language_info": {
   "codemirror_mode": {
    "name": "ipython",
    "version": 3
   },
   "file_extension": ".py",
   "mimetype": "text/x-python",
   "name": "python",
   "nbconvert_exporter": "python",
   "pygments_lexer": "ipython3",
   "version": "2.7.18"
  },
  "orig_nbformat": 2,
  "kernelspec": {
   "name": "python2718jvsc74a57bd040af93d1d1281104d4558172f6bb94a7c05406768b7108ef0c80f8822d48f3f0",
   "display_name": "Python 2.7.18 64-bit ('nba-data': conda)"
  }
 },
 "nbformat": 4,
 "nbformat_minor": 2,
 "cells": [
  {
   "cell_type": "code",
   "execution_count": 1,
   "metadata": {},
   "outputs": [],
   "source": [
    "import pandas as pd"
   ]
  },
  {
   "cell_type": "code",
   "execution_count": 2,
   "metadata": {},
   "outputs": [
    {
     "output_type": "execute_result",
     "data": {
      "text/html": "<div>\n<style scoped>\n    .dataframe tbody tr th:only-of-type {\n        vertical-align: middle;\n    }\n\n    .dataframe tbody tr th {\n        vertical-align: top;\n    }\n\n    .dataframe thead th {\n        text-align: right;\n    }\n</style>\n<table border=\"1\" class=\"dataframe\">\n  <thead>\n    <tr style=\"text-align: right;\">\n      <th></th>\n      <th>player_id</th>\n      <th>game_id</th>\n      <th>event_id</th>\n      <th>game_clock</th>\n      <th>shot_clock</th>\n      <th>x_loc</th>\n      <th>y_loc</th>\n      <th>player_id_closest_defender</th>\n      <th>closest_distance_from_shooter</th>\n      <th>distance_from_basket</th>\n      <th>shot_made_flag</th>\n      <th>recorded_shot_distance</th>\n      <th>shooter_embedding_index</th>\n      <th>defender_embedding_index</th>\n    </tr>\n  </thead>\n  <tbody>\n    <tr>\n      <th>0</th>\n      <td>201143</td>\n      <td>21500001</td>\n      <td>228</td>\n      <td>1346.48</td>\n      <td>10.44</td>\n      <td>5.90704</td>\n      <td>38.78493</td>\n      <td>203083</td>\n      <td>4.823530</td>\n      <td>14.088122</td>\n      <td>1</td>\n      <td>13</td>\n      <td>98</td>\n      <td>255.0</td>\n    </tr>\n    <tr>\n      <th>1</th>\n      <td>202704</td>\n      <td>21500001</td>\n      <td>437</td>\n      <td>2575.29</td>\n      <td>13.97</td>\n      <td>19.94944</td>\n      <td>21.56599</td>\n      <td>200794</td>\n      <td>0.885241</td>\n      <td>17.293812</td>\n      <td>0</td>\n      <td>1</td>\n      <td>233</td>\n      <td>94.0</td>\n    </tr>\n    <tr>\n      <th>2</th>\n      <td>2594</td>\n      <td>21500001</td>\n      <td>477</td>\n      <td>2721.36</td>\n      <td>11.19</td>\n      <td>22.62340</td>\n      <td>11.06127</td>\n      <td>203484</td>\n      <td>2.368097</td>\n      <td>24.070023</td>\n      <td>1</td>\n      <td>20</td>\n      <td>46</td>\n      <td>306.0</td>\n    </tr>\n    <tr>\n      <th>3</th>\n      <td>2594</td>\n      <td>21500001</td>\n      <td>507</td>\n      <td>2831.96</td>\n      <td>17.99</td>\n      <td>22.47487</td>\n      <td>13.84307</td>\n      <td>202704</td>\n      <td>5.118656</td>\n      <td>22.444323</td>\n      <td>0</td>\n      <td>21</td>\n      <td>46</td>\n      <td>233.0</td>\n    </tr>\n    <tr>\n      <th>4</th>\n      <td>203076</td>\n      <td>21500003</td>\n      <td>504</td>\n      <td>2421.86</td>\n      <td>8.87</td>\n      <td>24.98951</td>\n      <td>35.88171</td>\n      <td>202691</td>\n      <td>2.629288</td>\n      <td>24.534673</td>\n      <td>1</td>\n      <td>16</td>\n      <td>248</td>\n      <td>222.0</td>\n    </tr>\n  </tbody>\n</table>\n</div>",
      "text/plain": [
       "   player_id   game_id  event_id  game_clock  shot_clock     x_loc     y_loc  \\\n",
       "0     201143  21500001       228     1346.48       10.44   5.90704  38.78493   \n",
       "1     202704  21500001       437     2575.29       13.97  19.94944  21.56599   \n",
       "2       2594  21500001       477     2721.36       11.19  22.62340  11.06127   \n",
       "3       2594  21500001       507     2831.96       17.99  22.47487  13.84307   \n",
       "4     203076  21500003       504     2421.86        8.87  24.98951  35.88171   \n",
       "\n",
       "   player_id_closest_defender  closest_distance_from_shooter  \\\n",
       "0                      203083                       4.823530   \n",
       "1                      200794                       0.885241   \n",
       "2                      203484                       2.368097   \n",
       "3                      202704                       5.118656   \n",
       "4                      202691                       2.629288   \n",
       "\n",
       "   distance_from_basket  shot_made_flag  recorded_shot_distance  \\\n",
       "0             14.088122               1                      13   \n",
       "1             17.293812               0                       1   \n",
       "2             24.070023               1                      20   \n",
       "3             22.444323               0                      21   \n",
       "4             24.534673               1                      16   \n",
       "\n",
       "   shooter_embedding_index  defender_embedding_index  \n",
       "0                       98                     255.0  \n",
       "1                      233                      94.0  \n",
       "2                       46                     306.0  \n",
       "3                       46                     233.0  \n",
       "4                      248                     222.0  "
      ]
     },
     "metadata": {},
     "execution_count": 2
    }
   ],
   "source": [
    "df = pd.read_csv(\"../nba-movement-data/data/shots/shooter_and_defender_per_shot_ranked.csv\")\n",
    "\n",
    "df.head()"
   ]
  },
  {
   "cell_type": "code",
   "execution_count": 6,
   "metadata": {},
   "outputs": [
    {
     "output_type": "execute_result",
     "data": {
      "text/plain": [
       "(27321, 14)"
      ]
     },
     "metadata": {},
     "execution_count": 6
    }
   ],
   "source": [
    "df.shape"
   ]
  },
  {
   "cell_type": "code",
   "execution_count": 4,
   "metadata": {},
   "outputs": [
    {
     "output_type": "execute_result",
     "data": {
      "text/html": "<div>\n<style scoped>\n    .dataframe tbody tr th:only-of-type {\n        vertical-align: middle;\n    }\n\n    .dataframe tbody tr th {\n        vertical-align: top;\n    }\n\n    .dataframe thead th {\n        text-align: right;\n    }\n</style>\n<table border=\"1\" class=\"dataframe\">\n  <thead>\n    <tr style=\"text-align: right;\">\n      <th></th>\n      <th>PLAYER_ID</th>\n      <th>PLAYER_NAME</th>\n      <th>0</th>\n      <th>1</th>\n      <th>rank</th>\n    </tr>\n  </thead>\n  <tbody>\n    <tr>\n      <th>0</th>\n      <td>708</td>\n      <td>Kevin Garnett</td>\n      <td>61.0</td>\n      <td>54</td>\n      <td>0</td>\n    </tr>\n    <tr>\n      <th>1</th>\n      <td>977</td>\n      <td>Kobe Bryant</td>\n      <td>715.0</td>\n      <td>398</td>\n      <td>1</td>\n    </tr>\n    <tr>\n      <th>2</th>\n      <td>1495</td>\n      <td>Tim Duncan</td>\n      <td>226.0</td>\n      <td>215</td>\n      <td>2</td>\n    </tr>\n    <tr>\n      <th>3</th>\n      <td>1713</td>\n      <td>Vince Carter</td>\n      <td>210.0</td>\n      <td>133</td>\n      <td>3</td>\n    </tr>\n    <tr>\n      <th>4</th>\n      <td>1717</td>\n      <td>Dirk Nowitzki</td>\n      <td>614.0</td>\n      <td>498</td>\n      <td>4</td>\n    </tr>\n  </tbody>\n</table>\n</div>",
      "text/plain": [
       "   PLAYER_ID    PLAYER_NAME      0    1  rank\n",
       "0        708  Kevin Garnett   61.0   54     0\n",
       "1        977    Kobe Bryant  715.0  398     1\n",
       "2       1495     Tim Duncan  226.0  215     2\n",
       "3       1713   Vince Carter  210.0  133     3\n",
       "4       1717  Dirk Nowitzki  614.0  498     4"
      ]
     },
     "metadata": {},
     "execution_count": 4
    }
   ],
   "source": [
    "df_player_agg = pd.read_csv(\"../nba-movement-data/data/player/player_aggregates.csv\")\n",
    "\n",
    "df_player_agg.head()"
   ]
  },
  {
   "cell_type": "code",
   "execution_count": 7,
   "metadata": {},
   "outputs": [
    {
     "output_type": "execute_result",
     "data": {
      "text/plain": [
       "(444, 5)"
      ]
     },
     "metadata": {},
     "execution_count": 7
    }
   ],
   "source": [
    "df_player_agg.shape"
   ]
  },
  {
   "cell_type": "code",
   "execution_count": null,
   "metadata": {},
   "outputs": [],
   "source": []
  }
 ]
}